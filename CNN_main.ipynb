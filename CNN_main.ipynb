{
  "nbformat": 4,
  "nbformat_minor": 0,
  "metadata": {
    "colab": {
      "provenance": [],
      "gpuType": "T4"
    },
    "kernelspec": {
      "name": "python3",
      "display_name": "Python 3"
    },
    "language_info": {
      "name": "python"
    },
    "accelerator": "GPU"
  },
  "cells": [
    {
      "cell_type": "code",
      "source": [
        "import pandas as pd\n",
        "import numpy as np\n",
        "from wordcloud import WordCloud, STOPWORDS\n",
        "import seaborn as sns\n",
        "from os import path\n",
        "sns.set()\n",
        "from sklearn.model_selection import train_test_split\n",
        "import matplotlib.pyplot as plt\n",
        "from sklearn.feature_extraction.text import TfidfVectorizer\n",
        "from sklearn.linear_model import LogisticRegression\n",
        "from sklearn.pipeline import Pipeline\n",
        "from sklearn.metrics import accuracy_score, confusion_matrix, recall_score, precision_score, f1_score\n",
        "import datetime as dt\n",
        "from sklearn.model_selection import cross_val_score\n",
        "from sklearn.model_selection import GridSearchCV\n",
        "import calendar\n",
        "from sklearn.feature_extraction.text import TfidfVectorizer\n",
        "from sklearn.metrics.pairwise import cosine_similarity\n",
        "%matplotlib inline\n",
        "import time\n",
        "from tensorflow.keras.layers import Embedding\n",
        "from tensorflow.keras.preprocessing.sequence import pad_sequences\n",
        "from tensorflow.keras.models import Sequential\n",
        "from tensorflow.keras.preprocessing.text import one_hot\n",
        "from tensorflow.keras.layers import LSTM, Bidirectional\n",
        "from tensorflow.keras.layers import Dense, Dropout, BatchNormalization\n",
        "from keras.preprocessing import sequence\n",
        "from keras.preprocessing import text\n",
        "from keras.layers import Conv1D, Flatten,MaxPooling1D\n",
        "from keras.preprocessing import text\n",
        "from sklearn.feature_extraction.text import TfidfVectorizer\n",
        "from sklearn.model_selection import GridSearchCV\n",
        "from sklearn.metrics import roc_auc_score, accuracy_score, f1_score\n",
        "from sklearn.metrics import auc\n",
        "import re\n",
        "from nltk.corpus import stopwords\n",
        "from nltk.stem import WordNetLemmatizer\n",
        "from nltk.stem import PorterStemmer\n",
        "import string, nltk\n",
        "\n",
        "nltk.download('stopwords')\n",
        "nltk.download('punkt')\n",
        "nltk.download('wordnet')\n",
        "\n",
        "ENGLISH_STOPWORDS = stopwords.words('english')\n",
        "PUNCTUATIONS = string.punctuation\n",
        "LEMMATIZER = WordNetLemmatizer()\n",
        "STEMMER = PorterStemmer()"
      ],
      "metadata": {
        "id": "LRKw5rbZpLGY",
        "colab": {
          "base_uri": "https://localhost:8080/"
        },
        "outputId": "184f0e35-9e92-4e48-e7e4-3d14d2138afc"
      },
      "execution_count": null,
      "outputs": [
        {
          "output_type": "stream",
          "name": "stderr",
          "text": [
            "[nltk_data] Downloading package stopwords to /root/nltk_data...\n",
            "[nltk_data]   Unzipping corpora/stopwords.zip.\n",
            "[nltk_data] Downloading package punkt to /root/nltk_data...\n",
            "[nltk_data]   Unzipping tokenizers/punkt.zip.\n",
            "[nltk_data] Downloading package wordnet to /root/nltk_data...\n"
          ]
        }
      ]
    },
    {
      "cell_type": "code",
      "source": [
        "from google.colab import drive\n",
        "drive.mount('/content/drive')"
      ],
      "metadata": {
        "colab": {
          "base_uri": "https://localhost:8080/"
        },
        "id": "2RO3t3zApNtR",
        "outputId": "d0c7e6b9-a898-4358-e221-a4e9a94c0c6a"
      },
      "execution_count": null,
      "outputs": [
        {
          "output_type": "stream",
          "name": "stdout",
          "text": [
            "Drive already mounted at /content/drive; to attempt to forcibly remount, call drive.mount(\"/content/drive\", force_remount=True).\n"
          ]
        }
      ]
    },
    {
      "cell_type": "code",
      "source": [
        "df = pd.read_csv('/content/drive/MyDrive/Project-NLP/train-balanced-sarcasm-50k.csv')\n",
        "df.head()"
      ],
      "metadata": {
        "colab": {
          "base_uri": "https://localhost:8080/",
          "height": 206
        },
        "id": "saDcOGxlpU2E",
        "outputId": "f61aa345-581c-42d5-db95-90976179a6fa"
      },
      "execution_count": null,
      "outputs": [
        {
          "output_type": "execute_result",
          "data": {
            "text/plain": [
              "   label                                            comment\n",
              "0      1  Yes that's why I don't advocate for the rights...\n",
              "1      1  I can find you a Pinsir if you want one that bad.\n",
              "2      0  Huh, that's pretty interesting actually thanks...\n",
              "3      1   TIL a monsoon = average summer weather in Sweden\n",
              "4      1  Yeah everyone knows holographic tigers and bom..."
            ],
            "text/html": [
              "\n",
              "  <div id=\"df-bc61feb5-8c55-43ab-b42b-da87e2f2a34a\" class=\"colab-df-container\">\n",
              "    <div>\n",
              "<style scoped>\n",
              "    .dataframe tbody tr th:only-of-type {\n",
              "        vertical-align: middle;\n",
              "    }\n",
              "\n",
              "    .dataframe tbody tr th {\n",
              "        vertical-align: top;\n",
              "    }\n",
              "\n",
              "    .dataframe thead th {\n",
              "        text-align: right;\n",
              "    }\n",
              "</style>\n",
              "<table border=\"1\" class=\"dataframe\">\n",
              "  <thead>\n",
              "    <tr style=\"text-align: right;\">\n",
              "      <th></th>\n",
              "      <th>label</th>\n",
              "      <th>comment</th>\n",
              "    </tr>\n",
              "  </thead>\n",
              "  <tbody>\n",
              "    <tr>\n",
              "      <th>0</th>\n",
              "      <td>1</td>\n",
              "      <td>Yes that's why I don't advocate for the rights...</td>\n",
              "    </tr>\n",
              "    <tr>\n",
              "      <th>1</th>\n",
              "      <td>1</td>\n",
              "      <td>I can find you a Pinsir if you want one that bad.</td>\n",
              "    </tr>\n",
              "    <tr>\n",
              "      <th>2</th>\n",
              "      <td>0</td>\n",
              "      <td>Huh, that's pretty interesting actually thanks...</td>\n",
              "    </tr>\n",
              "    <tr>\n",
              "      <th>3</th>\n",
              "      <td>1</td>\n",
              "      <td>TIL a monsoon = average summer weather in Sweden</td>\n",
              "    </tr>\n",
              "    <tr>\n",
              "      <th>4</th>\n",
              "      <td>1</td>\n",
              "      <td>Yeah everyone knows holographic tigers and bom...</td>\n",
              "    </tr>\n",
              "  </tbody>\n",
              "</table>\n",
              "</div>\n",
              "    <div class=\"colab-df-buttons\">\n",
              "\n",
              "  <div class=\"colab-df-container\">\n",
              "    <button class=\"colab-df-convert\" onclick=\"convertToInteractive('df-bc61feb5-8c55-43ab-b42b-da87e2f2a34a')\"\n",
              "            title=\"Convert this dataframe to an interactive table.\"\n",
              "            style=\"display:none;\">\n",
              "\n",
              "  <svg xmlns=\"http://www.w3.org/2000/svg\" height=\"24px\" viewBox=\"0 -960 960 960\">\n",
              "    <path d=\"M120-120v-720h720v720H120Zm60-500h600v-160H180v160Zm220 220h160v-160H400v160Zm0 220h160v-160H400v160ZM180-400h160v-160H180v160Zm440 0h160v-160H620v160ZM180-180h160v-160H180v160Zm440 0h160v-160H620v160Z\"/>\n",
              "  </svg>\n",
              "    </button>\n",
              "\n",
              "  <style>\n",
              "    .colab-df-container {\n",
              "      display:flex;\n",
              "      gap: 12px;\n",
              "    }\n",
              "\n",
              "    .colab-df-convert {\n",
              "      background-color: #E8F0FE;\n",
              "      border: none;\n",
              "      border-radius: 50%;\n",
              "      cursor: pointer;\n",
              "      display: none;\n",
              "      fill: #1967D2;\n",
              "      height: 32px;\n",
              "      padding: 0 0 0 0;\n",
              "      width: 32px;\n",
              "    }\n",
              "\n",
              "    .colab-df-convert:hover {\n",
              "      background-color: #E2EBFA;\n",
              "      box-shadow: 0px 1px 2px rgba(60, 64, 67, 0.3), 0px 1px 3px 1px rgba(60, 64, 67, 0.15);\n",
              "      fill: #174EA6;\n",
              "    }\n",
              "\n",
              "    .colab-df-buttons div {\n",
              "      margin-bottom: 4px;\n",
              "    }\n",
              "\n",
              "    [theme=dark] .colab-df-convert {\n",
              "      background-color: #3B4455;\n",
              "      fill: #D2E3FC;\n",
              "    }\n",
              "\n",
              "    [theme=dark] .colab-df-convert:hover {\n",
              "      background-color: #434B5C;\n",
              "      box-shadow: 0px 1px 3px 1px rgba(0, 0, 0, 0.15);\n",
              "      filter: drop-shadow(0px 1px 2px rgba(0, 0, 0, 0.3));\n",
              "      fill: #FFFFFF;\n",
              "    }\n",
              "  </style>\n",
              "\n",
              "    <script>\n",
              "      const buttonEl =\n",
              "        document.querySelector('#df-bc61feb5-8c55-43ab-b42b-da87e2f2a34a button.colab-df-convert');\n",
              "      buttonEl.style.display =\n",
              "        google.colab.kernel.accessAllowed ? 'block' : 'none';\n",
              "\n",
              "      async function convertToInteractive(key) {\n",
              "        const element = document.querySelector('#df-bc61feb5-8c55-43ab-b42b-da87e2f2a34a');\n",
              "        const dataTable =\n",
              "          await google.colab.kernel.invokeFunction('convertToInteractive',\n",
              "                                                    [key], {});\n",
              "        if (!dataTable) return;\n",
              "\n",
              "        const docLinkHtml = 'Like what you see? Visit the ' +\n",
              "          '<a target=\"_blank\" href=https://colab.research.google.com/notebooks/data_table.ipynb>data table notebook</a>'\n",
              "          + ' to learn more about interactive tables.';\n",
              "        element.innerHTML = '';\n",
              "        dataTable['output_type'] = 'display_data';\n",
              "        await google.colab.output.renderOutput(dataTable, element);\n",
              "        const docLink = document.createElement('div');\n",
              "        docLink.innerHTML = docLinkHtml;\n",
              "        element.appendChild(docLink);\n",
              "      }\n",
              "    </script>\n",
              "  </div>\n",
              "\n",
              "\n",
              "<div id=\"df-d103a652-22d1-4db2-84bc-9d2582fc0750\">\n",
              "  <button class=\"colab-df-quickchart\" onclick=\"quickchart('df-d103a652-22d1-4db2-84bc-9d2582fc0750')\"\n",
              "            title=\"Suggest charts\"\n",
              "            style=\"display:none;\">\n",
              "\n",
              "<svg xmlns=\"http://www.w3.org/2000/svg\" height=\"24px\"viewBox=\"0 0 24 24\"\n",
              "     width=\"24px\">\n",
              "    <g>\n",
              "        <path d=\"M19 3H5c-1.1 0-2 .9-2 2v14c0 1.1.9 2 2 2h14c1.1 0 2-.9 2-2V5c0-1.1-.9-2-2-2zM9 17H7v-7h2v7zm4 0h-2V7h2v10zm4 0h-2v-4h2v4z\"/>\n",
              "    </g>\n",
              "</svg>\n",
              "  </button>\n",
              "\n",
              "<style>\n",
              "  .colab-df-quickchart {\n",
              "      --bg-color: #E8F0FE;\n",
              "      --fill-color: #1967D2;\n",
              "      --hover-bg-color: #E2EBFA;\n",
              "      --hover-fill-color: #174EA6;\n",
              "      --disabled-fill-color: #AAA;\n",
              "      --disabled-bg-color: #DDD;\n",
              "  }\n",
              "\n",
              "  [theme=dark] .colab-df-quickchart {\n",
              "      --bg-color: #3B4455;\n",
              "      --fill-color: #D2E3FC;\n",
              "      --hover-bg-color: #434B5C;\n",
              "      --hover-fill-color: #FFFFFF;\n",
              "      --disabled-bg-color: #3B4455;\n",
              "      --disabled-fill-color: #666;\n",
              "  }\n",
              "\n",
              "  .colab-df-quickchart {\n",
              "    background-color: var(--bg-color);\n",
              "    border: none;\n",
              "    border-radius: 50%;\n",
              "    cursor: pointer;\n",
              "    display: none;\n",
              "    fill: var(--fill-color);\n",
              "    height: 32px;\n",
              "    padding: 0;\n",
              "    width: 32px;\n",
              "  }\n",
              "\n",
              "  .colab-df-quickchart:hover {\n",
              "    background-color: var(--hover-bg-color);\n",
              "    box-shadow: 0 1px 2px rgba(60, 64, 67, 0.3), 0 1px 3px 1px rgba(60, 64, 67, 0.15);\n",
              "    fill: var(--button-hover-fill-color);\n",
              "  }\n",
              "\n",
              "  .colab-df-quickchart-complete:disabled,\n",
              "  .colab-df-quickchart-complete:disabled:hover {\n",
              "    background-color: var(--disabled-bg-color);\n",
              "    fill: var(--disabled-fill-color);\n",
              "    box-shadow: none;\n",
              "  }\n",
              "\n",
              "  .colab-df-spinner {\n",
              "    border: 2px solid var(--fill-color);\n",
              "    border-color: transparent;\n",
              "    border-bottom-color: var(--fill-color);\n",
              "    animation:\n",
              "      spin 1s steps(1) infinite;\n",
              "  }\n",
              "\n",
              "  @keyframes spin {\n",
              "    0% {\n",
              "      border-color: transparent;\n",
              "      border-bottom-color: var(--fill-color);\n",
              "      border-left-color: var(--fill-color);\n",
              "    }\n",
              "    20% {\n",
              "      border-color: transparent;\n",
              "      border-left-color: var(--fill-color);\n",
              "      border-top-color: var(--fill-color);\n",
              "    }\n",
              "    30% {\n",
              "      border-color: transparent;\n",
              "      border-left-color: var(--fill-color);\n",
              "      border-top-color: var(--fill-color);\n",
              "      border-right-color: var(--fill-color);\n",
              "    }\n",
              "    40% {\n",
              "      border-color: transparent;\n",
              "      border-right-color: var(--fill-color);\n",
              "      border-top-color: var(--fill-color);\n",
              "    }\n",
              "    60% {\n",
              "      border-color: transparent;\n",
              "      border-right-color: var(--fill-color);\n",
              "    }\n",
              "    80% {\n",
              "      border-color: transparent;\n",
              "      border-right-color: var(--fill-color);\n",
              "      border-bottom-color: var(--fill-color);\n",
              "    }\n",
              "    90% {\n",
              "      border-color: transparent;\n",
              "      border-bottom-color: var(--fill-color);\n",
              "    }\n",
              "  }\n",
              "</style>\n",
              "\n",
              "  <script>\n",
              "    async function quickchart(key) {\n",
              "      const quickchartButtonEl =\n",
              "        document.querySelector('#' + key + ' button');\n",
              "      quickchartButtonEl.disabled = true;  // To prevent multiple clicks.\n",
              "      quickchartButtonEl.classList.add('colab-df-spinner');\n",
              "      try {\n",
              "        const charts = await google.colab.kernel.invokeFunction(\n",
              "            'suggestCharts', [key], {});\n",
              "      } catch (error) {\n",
              "        console.error('Error during call to suggestCharts:', error);\n",
              "      }\n",
              "      quickchartButtonEl.classList.remove('colab-df-spinner');\n",
              "      quickchartButtonEl.classList.add('colab-df-quickchart-complete');\n",
              "    }\n",
              "    (() => {\n",
              "      let quickchartButtonEl =\n",
              "        document.querySelector('#df-d103a652-22d1-4db2-84bc-9d2582fc0750 button');\n",
              "      quickchartButtonEl.style.display =\n",
              "        google.colab.kernel.accessAllowed ? 'block' : 'none';\n",
              "    })();\n",
              "  </script>\n",
              "</div>\n",
              "    </div>\n",
              "  </div>\n"
            ],
            "application/vnd.google.colaboratory.intrinsic+json": {
              "type": "dataframe",
              "variable_name": "df",
              "summary": "{\n  \"name\": \"df\",\n  \"rows\": 50000,\n  \"fields\": [\n    {\n      \"column\": \"label\",\n      \"properties\": {\n        \"dtype\": \"number\",\n        \"std\": 0,\n        \"min\": 0,\n        \"max\": 1,\n        \"num_unique_values\": 2,\n        \"samples\": [\n          0,\n          1\n        ],\n        \"semantic_type\": \"\",\n        \"description\": \"\"\n      }\n    },\n    {\n      \"column\": \"comment\",\n      \"properties\": {\n        \"dtype\": \"string\",\n        \"num_unique_values\": 49120,\n        \"samples\": [\n          \"But it doesn't count because they have only changed leadership once.\",\n          \"Actually, that depends on the state.\"\n        ],\n        \"semantic_type\": \"\",\n        \"description\": \"\"\n      }\n    }\n  ]\n}"
            }
          },
          "metadata": {},
          "execution_count": 15
        }
      ]
    },
    {
      "cell_type": "code",
      "source": [
        "df.dropna(subset=['comment'], inplace=True)\n",
        "def clean(tweet):\n",
        "    #emojis\n",
        "    emoji_pattern = re.compile(\n",
        "        '['\n",
        "        u'\\U0001F600-\\U0001F64F'  # emoticons\n",
        "        u'\\U0001F300-\\U0001F5FF'  # symbols & pictographs\n",
        "        u'\\U0001F680-\\U0001F6FF'  # transport & map symbols\n",
        "        u'\\U0001F1E0-\\U0001F1FF'  # flags\n",
        "        u'\\U00002702-\\U000027B0'\n",
        "        u'\\U000024C2-\\U0001F251'\n",
        "        ']+',\n",
        "        flags=re.UNICODE)\n",
        "    tweet =  emoji_pattern.sub(r'', tweet)\n",
        "\n",
        "    # usernames mentions like \"@abc123\"\n",
        "    ment = re.compile(r\"(@[A-Za-z0-9]+)\")\n",
        "    tweet =  ment.sub(r'', tweet)\n",
        "\n",
        "    # Character entity references\n",
        "    tweet = re.sub(r\"&amp;\", \"&\", tweet)\n",
        "\n",
        "    # html tags\n",
        "    html = re.compile(r'<.*?>|&([a-z0-9]+|#[0-9]{1,6}|#x[0-9a-f]{1,6});')\n",
        "    tweet = re.sub(html, '', tweet)\n",
        "\n",
        "    # Urls\n",
        "    tweet = re.sub(r\"https?:\\/\\/t.co\\/[A-Za-z0-9]+\", \"\", tweet)\n",
        "    tweet = re.sub(r'https?://\\S+|www\\.\\S+','', tweet)\n",
        "\n",
        "    #Punctuations and special characters\n",
        "    tweet = re.sub('[%s]' % re.escape(PUNCTUATIONS),'',tweet)\n",
        "\n",
        "    tweet = tweet.lower()\n",
        "\n",
        "    splits = tweet.split()\n",
        "    splits = [word for word in splits if word not in set(ENGLISH_STOPWORDS)]\n",
        "    tweet = ' '.join(splits)\n",
        "\n",
        "    return tweet"
      ],
      "metadata": {
        "id": "nWYQOdCzphk_"
      },
      "execution_count": null,
      "outputs": []
    },
    {
      "cell_type": "code",
      "source": [
        "df['cleaned_text'] = df['comment'].apply((lambda x: clean(x)))\n",
        "print(\"Cleaned\")"
      ],
      "metadata": {
        "colab": {
          "base_uri": "https://localhost:8080/"
        },
        "id": "pHy11NjXG9lb",
        "outputId": "409a6d78-145d-4efc-84c5-ef56e02ec830"
      },
      "execution_count": null,
      "outputs": [
        {
          "output_type": "stream",
          "name": "stdout",
          "text": [
            "Cleaned\n"
          ]
        }
      ]
    },
    {
      "cell_type": "code",
      "source": [
        "df.info()"
      ],
      "metadata": {
        "colab": {
          "base_uri": "https://localhost:8080/"
        },
        "id": "b0wvNauLplJs",
        "outputId": "2bdc5b00-605f-4a59-f9d3-6b3309ce7ba7"
      },
      "execution_count": null,
      "outputs": [
        {
          "output_type": "stream",
          "name": "stdout",
          "text": [
            "<class 'pandas.core.frame.DataFrame'>\n",
            "Index: 49997 entries, 0 to 49999\n",
            "Data columns (total 3 columns):\n",
            " #   Column        Non-Null Count  Dtype \n",
            "---  ------        --------------  ----- \n",
            " 0   label         49997 non-null  int64 \n",
            " 1   comment       49997 non-null  object\n",
            " 2   cleaned_text  49997 non-null  object\n",
            "dtypes: int64(1), object(2)\n",
            "memory usage: 1.5+ MB\n"
          ]
        }
      ]
    },
    {
      "cell_type": "code",
      "source": [
        "vocab_size = 1000\n",
        "maxlen = 1000\n",
        "embedding_dims = 50\n",
        "filters = 32\n",
        "kernel_size = 3\n",
        "hidden_dims = 250"
      ],
      "metadata": {
        "id": "pUqpQLliqVPy"
      },
      "execution_count": null,
      "outputs": []
    },
    {
      "cell_type": "code",
      "source": [
        "X_train, X_test, y_train, y_test = train_test_split(df['cleaned_text'], df['label'], test_size=0.2, random_state=42)\n",
        "\n",
        "tokenizer = text.Tokenizer(num_words=vocab_size)\n",
        "tokenizer.fit_on_texts(X_train)\n",
        "X_train = tokenizer.texts_to_sequences(X_train)\n",
        "X_test = tokenizer.texts_to_sequences(X_test)\n",
        "\n",
        "X_train = sequence.pad_sequences(X_train, maxlen=maxlen)\n",
        "X_test = sequence.pad_sequences(X_test, maxlen=maxlen)"
      ],
      "metadata": {
        "id": "32DPyX8qqiLR"
      },
      "execution_count": null,
      "outputs": []
    },
    {
      "cell_type": "code",
      "source": [
        "cnn_model = Sequential()\n",
        "cnn_model.add(Embedding(vocab_size,embedding_dims,input_length=maxlen))\n",
        "cnn_model.add(Dropout(.5))\n",
        "cnn_model.add(Conv1D(filters, kernel_size,padding = 'valid', activation = 'relu'))\n",
        "cnn_model.add(MaxPooling1D())\n",
        "cnn_model.add(Conv1D(filters, kernel_size,padding = 'valid', activation = 'relu'))\n",
        "cnn_model.add(MaxPooling1D())\n",
        "cnn_model.add(Flatten())\n",
        "cnn_model.add(Dense(hidden_dims, activation ='relu'))\n",
        "cnn_model.add(Dropout(.5))\n",
        "cnn_model.add(Dense(1, activation='sigmoid'))\n",
        "\n",
        "\n",
        "cnn_model.compile(loss='binary_crossentropy',\n",
        "              optimizer='adam',\n",
        "              metrics=['accuracy'])\n",
        "\n",
        "\n",
        "cnn_model.fit(X_train,y_train,validation_data=(X_test,y_test),epochs=30,batch_size=64)"
      ],
      "metadata": {
        "colab": {
          "base_uri": "https://localhost:8080/"
        },
        "id": "NXMIkL5hql4X",
        "outputId": "c0fd0ed2-4be1-4de4-9f43-6497b40b7e3f"
      },
      "execution_count": null,
      "outputs": [
        {
          "output_type": "stream",
          "name": "stdout",
          "text": [
            "Epoch 1/30\n",
            "625/625 [==============================] - 26s 31ms/step - loss: 0.6850 - accuracy: 0.5315 - val_loss: 0.6631 - val_accuracy: 0.5865\n",
            "Epoch 2/30\n",
            "625/625 [==============================] - 7s 12ms/step - loss: 0.6564 - accuracy: 0.5943 - val_loss: 0.6586 - val_accuracy: 0.5911\n",
            "Epoch 3/30\n",
            "625/625 [==============================] - 6s 10ms/step - loss: 0.6470 - accuracy: 0.6045 - val_loss: 0.6607 - val_accuracy: 0.5874\n",
            "Epoch 4/30\n",
            "625/625 [==============================] - 6s 10ms/step - loss: 0.6411 - accuracy: 0.6097 - val_loss: 0.6634 - val_accuracy: 0.5880\n",
            "Epoch 5/30\n",
            "625/625 [==============================] - 6s 9ms/step - loss: 0.6359 - accuracy: 0.6130 - val_loss: 0.6663 - val_accuracy: 0.5840\n",
            "Epoch 6/30\n",
            "625/625 [==============================] - 5s 9ms/step - loss: 0.6309 - accuracy: 0.6179 - val_loss: 0.6697 - val_accuracy: 0.5834\n",
            "Epoch 7/30\n",
            "625/625 [==============================] - 6s 10ms/step - loss: 0.6245 - accuracy: 0.6213 - val_loss: 0.6736 - val_accuracy: 0.5809\n",
            "Epoch 8/30\n",
            "625/625 [==============================] - 6s 9ms/step - loss: 0.6199 - accuracy: 0.6248 - val_loss: 0.6806 - val_accuracy: 0.5808\n",
            "Epoch 9/30\n",
            "625/625 [==============================] - 6s 10ms/step - loss: 0.6152 - accuracy: 0.6290 - val_loss: 0.6797 - val_accuracy: 0.5854\n",
            "Epoch 10/30\n",
            "625/625 [==============================] - 5s 8ms/step - loss: 0.6143 - accuracy: 0.6304 - val_loss: 0.6805 - val_accuracy: 0.5798\n",
            "Epoch 11/30\n",
            "625/625 [==============================] - 6s 10ms/step - loss: 0.6083 - accuracy: 0.6330 - val_loss: 0.6958 - val_accuracy: 0.5826\n",
            "Epoch 12/30\n",
            "625/625 [==============================] - 5s 9ms/step - loss: 0.6055 - accuracy: 0.6332 - val_loss: 0.6873 - val_accuracy: 0.5813\n",
            "Epoch 13/30\n",
            "625/625 [==============================] - 5s 8ms/step - loss: 0.6022 - accuracy: 0.6385 - val_loss: 0.7043 - val_accuracy: 0.5834\n",
            "Epoch 14/30\n",
            "625/625 [==============================] - 6s 9ms/step - loss: 0.5999 - accuracy: 0.6375 - val_loss: 0.6923 - val_accuracy: 0.5820\n",
            "Epoch 15/30\n",
            "625/625 [==============================] - 5s 8ms/step - loss: 0.5966 - accuracy: 0.6419 - val_loss: 0.7100 - val_accuracy: 0.5840\n",
            "Epoch 16/30\n",
            "625/625 [==============================] - 5s 9ms/step - loss: 0.5944 - accuracy: 0.6418 - val_loss: 0.7058 - val_accuracy: 0.5817\n",
            "Epoch 17/30\n",
            "625/625 [==============================] - 6s 9ms/step - loss: 0.5913 - accuracy: 0.6409 - val_loss: 0.7072 - val_accuracy: 0.5788\n",
            "Epoch 18/30\n",
            "625/625 [==============================] - 5s 8ms/step - loss: 0.5905 - accuracy: 0.6418 - val_loss: 0.7143 - val_accuracy: 0.5811\n",
            "Epoch 19/30\n",
            "625/625 [==============================] - 6s 9ms/step - loss: 0.5881 - accuracy: 0.6454 - val_loss: 0.7184 - val_accuracy: 0.5787\n",
            "Epoch 20/30\n",
            "625/625 [==============================] - 5s 8ms/step - loss: 0.5855 - accuracy: 0.6459 - val_loss: 0.7146 - val_accuracy: 0.5804\n",
            "Epoch 21/30\n",
            "625/625 [==============================] - 5s 9ms/step - loss: 0.5836 - accuracy: 0.6478 - val_loss: 0.7222 - val_accuracy: 0.5801\n",
            "Epoch 22/30\n",
            "625/625 [==============================] - 5s 9ms/step - loss: 0.5820 - accuracy: 0.6498 - val_loss: 0.7243 - val_accuracy: 0.5764\n",
            "Epoch 23/30\n",
            "625/625 [==============================] - 5s 8ms/step - loss: 0.5817 - accuracy: 0.6484 - val_loss: 0.7222 - val_accuracy: 0.5792\n",
            "Epoch 24/30\n",
            "625/625 [==============================] - 6s 9ms/step - loss: 0.5773 - accuracy: 0.6509 - val_loss: 0.7239 - val_accuracy: 0.5815\n",
            "Epoch 25/30\n",
            "625/625 [==============================] - 5s 8ms/step - loss: 0.5780 - accuracy: 0.6512 - val_loss: 0.7346 - val_accuracy: 0.5782\n",
            "Epoch 26/30\n",
            "625/625 [==============================] - 6s 9ms/step - loss: 0.5763 - accuracy: 0.6515 - val_loss: 0.7284 - val_accuracy: 0.5762\n",
            "Epoch 27/30\n",
            "625/625 [==============================] - 6s 9ms/step - loss: 0.5739 - accuracy: 0.6525 - val_loss: 0.7314 - val_accuracy: 0.5778\n",
            "Epoch 28/30\n",
            "625/625 [==============================] - 5s 8ms/step - loss: 0.5742 - accuracy: 0.6522 - val_loss: 0.7376 - val_accuracy: 0.5787\n",
            "Epoch 29/30\n",
            "625/625 [==============================] - 6s 9ms/step - loss: 0.5717 - accuracy: 0.6562 - val_loss: 0.7622 - val_accuracy: 0.5780\n",
            "Epoch 30/30\n",
            "625/625 [==============================] - 5s 8ms/step - loss: 0.5690 - accuracy: 0.6560 - val_loss: 0.7443 - val_accuracy: 0.5780\n"
          ]
        },
        {
          "output_type": "execute_result",
          "data": {
            "text/plain": [
              "<keras.src.callbacks.History at 0x7e9c3705f880>"
            ]
          },
          "metadata": {},
          "execution_count": 21
        }
      ]
    },
    {
      "cell_type": "code",
      "source": [
        "test_loss, test_accuracy = cnn_model.evaluate(X_test, y_test, batch_size=64)\n",
        "print(\"The test loss is :\",test_loss)\n",
        "print(\"\\nThe test Accuracy is :\",test_accuracy*100)"
      ],
      "metadata": {
        "colab": {
          "base_uri": "https://localhost:8080/"
        },
        "id": "WVtalKjXqoU5",
        "outputId": "1068091f-06b2-499f-882c-13ed913ae386"
      },
      "execution_count": null,
      "outputs": [
        {
          "output_type": "stream",
          "name": "stdout",
          "text": [
            "157/157 [==============================] - 1s 5ms/step - loss: 0.7443 - accuracy: 0.5780\n",
            "The test loss is : 0.7442865371704102\n",
            "\n",
            "The test Accuracy is : 57.8000009059906\n"
          ]
        }
      ]
    },
    {
      "cell_type": "code",
      "source": [
        "predictions = cnn_model.predict(X_test)\n",
        "treshold = 0.5\n",
        "pred = (predictions > treshold).astype(int)\n",
        "f1 = f1_score(y_test, pred)\n",
        "print(f\"F1-Score {f1}\")"
      ],
      "metadata": {
        "colab": {
          "base_uri": "https://localhost:8080/"
        },
        "id": "OjmdL6jG5OjZ",
        "outputId": "554731bf-4403-4eb0-c1dd-b329f6453266"
      },
      "execution_count": null,
      "outputs": [
        {
          "output_type": "stream",
          "name": "stdout",
          "text": [
            "313/313 [==============================] - 1s 3ms/step\n",
            "F1-Score 0.46730623579904074\n"
          ]
        }
      ]
    }
  ]
}